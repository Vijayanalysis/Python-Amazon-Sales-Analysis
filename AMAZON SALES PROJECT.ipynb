{
 "cells": [
  {
   "cell_type": "code",
   "execution_count": 4,
   "id": "782b3435",
   "metadata": {},
   "outputs": [],
   "source": [
    "import numpy as np\n",
    "import pandas as pd\n",
    "import matplotlib.pyplot as plt\n",
    "import seaborn as sns"
   ]
  },
  {
   "cell_type": "markdown",
   "id": "ae43b60b",
   "metadata": {},
   "source": [
    "# Data Cleaning"
   ]
  },
  {
   "cell_type": "code",
   "execution_count": 18,
   "id": "33e15761",
   "metadata": {
    "scrolled": false
   },
   "outputs": [],
   "source": [
    "df = pd.read_csv(r'C:\\Users\\Hp\\Desktop\\DA\\Python_Amazon_Sales_Analysis-main\\Amazon Sale Report.csv')"
   ]
  },
  {
   "cell_type": "code",
   "execution_count": 17,
   "id": "969f102b",
   "metadata": {},
   "outputs": [
    {
     "name": "stdout",
     "output_type": "stream",
     "text": [
      "(128976, 21)\n"
     ]
    }
   ],
   "source": [
    "df.shape"
   ]
  },
  {
   "cell_type": "code",
   "execution_count": 19,
   "id": "34161be6",
   "metadata": {},
   "outputs": [
    {
     "data": {
      "text/html": [
       "<div>\n",
       "<style scoped>\n",
       "    .dataframe tbody tr th:only-of-type {\n",
       "        vertical-align: middle;\n",
       "    }\n",
       "\n",
       "    .dataframe tbody tr th {\n",
       "        vertical-align: top;\n",
       "    }\n",
       "\n",
       "    .dataframe thead th {\n",
       "        text-align: right;\n",
       "    }\n",
       "</style>\n",
       "<table border=\"1\" class=\"dataframe\">\n",
       "  <thead>\n",
       "    <tr style=\"text-align: right;\">\n",
       "      <th></th>\n",
       "      <th>index</th>\n",
       "      <th>Order ID</th>\n",
       "      <th>Date</th>\n",
       "      <th>Status</th>\n",
       "      <th>Fulfilment</th>\n",
       "      <th>Sales Channel</th>\n",
       "      <th>ship-service-level</th>\n",
       "      <th>Category</th>\n",
       "      <th>Size</th>\n",
       "      <th>Courier Status</th>\n",
       "      <th>...</th>\n",
       "      <th>currency</th>\n",
       "      <th>Amount</th>\n",
       "      <th>ship-city</th>\n",
       "      <th>ship-state</th>\n",
       "      <th>ship-postal-code</th>\n",
       "      <th>ship-country</th>\n",
       "      <th>B2B</th>\n",
       "      <th>fulfilled-by</th>\n",
       "      <th>New</th>\n",
       "      <th>PendingS</th>\n",
       "    </tr>\n",
       "  </thead>\n",
       "  <tbody>\n",
       "    <tr>\n",
       "      <th>0</th>\n",
       "      <td>0</td>\n",
       "      <td>405-8078784-5731545</td>\n",
       "      <td>04-30-22</td>\n",
       "      <td>Cancelled</td>\n",
       "      <td>Merchant</td>\n",
       "      <td>Amazon.in</td>\n",
       "      <td>Standard</td>\n",
       "      <td>T-shirt</td>\n",
       "      <td>S</td>\n",
       "      <td>On the Way</td>\n",
       "      <td>...</td>\n",
       "      <td>INR</td>\n",
       "      <td>647.62</td>\n",
       "      <td>MUMBAI</td>\n",
       "      <td>MAHARASHTRA</td>\n",
       "      <td>400081.0</td>\n",
       "      <td>IN</td>\n",
       "      <td>False</td>\n",
       "      <td>Easy Ship</td>\n",
       "      <td>NaN</td>\n",
       "      <td>NaN</td>\n",
       "    </tr>\n",
       "    <tr>\n",
       "      <th>1</th>\n",
       "      <td>1</td>\n",
       "      <td>171-9198151-1101146</td>\n",
       "      <td>04-30-22</td>\n",
       "      <td>Shipped - Delivered to Buyer</td>\n",
       "      <td>Merchant</td>\n",
       "      <td>Amazon.in</td>\n",
       "      <td>Standard</td>\n",
       "      <td>Shirt</td>\n",
       "      <td>3XL</td>\n",
       "      <td>Shipped</td>\n",
       "      <td>...</td>\n",
       "      <td>INR</td>\n",
       "      <td>406.00</td>\n",
       "      <td>BENGALURU</td>\n",
       "      <td>KARNATAKA</td>\n",
       "      <td>560085.0</td>\n",
       "      <td>IN</td>\n",
       "      <td>False</td>\n",
       "      <td>Easy Ship</td>\n",
       "      <td>NaN</td>\n",
       "      <td>NaN</td>\n",
       "    </tr>\n",
       "    <tr>\n",
       "      <th>2</th>\n",
       "      <td>2</td>\n",
       "      <td>404-0687676-7273146</td>\n",
       "      <td>04-30-22</td>\n",
       "      <td>Shipped</td>\n",
       "      <td>Amazon</td>\n",
       "      <td>Amazon.in</td>\n",
       "      <td>Expedited</td>\n",
       "      <td>Shirt</td>\n",
       "      <td>XL</td>\n",
       "      <td>Shipped</td>\n",
       "      <td>...</td>\n",
       "      <td>INR</td>\n",
       "      <td>329.00</td>\n",
       "      <td>NAVI MUMBAI</td>\n",
       "      <td>MAHARASHTRA</td>\n",
       "      <td>410210.0</td>\n",
       "      <td>IN</td>\n",
       "      <td>True</td>\n",
       "      <td>NaN</td>\n",
       "      <td>NaN</td>\n",
       "      <td>NaN</td>\n",
       "    </tr>\n",
       "    <tr>\n",
       "      <th>3</th>\n",
       "      <td>3</td>\n",
       "      <td>403-9615377-8133951</td>\n",
       "      <td>04-30-22</td>\n",
       "      <td>Cancelled</td>\n",
       "      <td>Merchant</td>\n",
       "      <td>Amazon.in</td>\n",
       "      <td>Standard</td>\n",
       "      <td>Blazzer</td>\n",
       "      <td>L</td>\n",
       "      <td>On the Way</td>\n",
       "      <td>...</td>\n",
       "      <td>INR</td>\n",
       "      <td>753.33</td>\n",
       "      <td>PUDUCHERRY</td>\n",
       "      <td>PUDUCHERRY</td>\n",
       "      <td>605008.0</td>\n",
       "      <td>IN</td>\n",
       "      <td>False</td>\n",
       "      <td>Easy Ship</td>\n",
       "      <td>NaN</td>\n",
       "      <td>NaN</td>\n",
       "    </tr>\n",
       "    <tr>\n",
       "      <th>4</th>\n",
       "      <td>4</td>\n",
       "      <td>407-1069790-7240320</td>\n",
       "      <td>04-30-22</td>\n",
       "      <td>Shipped</td>\n",
       "      <td>Amazon</td>\n",
       "      <td>Amazon.in</td>\n",
       "      <td>Expedited</td>\n",
       "      <td>Trousers</td>\n",
       "      <td>3XL</td>\n",
       "      <td>Shipped</td>\n",
       "      <td>...</td>\n",
       "      <td>INR</td>\n",
       "      <td>574.00</td>\n",
       "      <td>CHENNAI</td>\n",
       "      <td>TAMIL NADU</td>\n",
       "      <td>600073.0</td>\n",
       "      <td>IN</td>\n",
       "      <td>False</td>\n",
       "      <td>NaN</td>\n",
       "      <td>NaN</td>\n",
       "      <td>NaN</td>\n",
       "    </tr>\n",
       "  </tbody>\n",
       "</table>\n",
       "<p>5 rows × 21 columns</p>\n",
       "</div>"
      ],
      "text/plain": [
       "   index             Order ID      Date                        Status  \\\n",
       "0      0  405-8078784-5731545  04-30-22                     Cancelled   \n",
       "1      1  171-9198151-1101146  04-30-22  Shipped - Delivered to Buyer   \n",
       "2      2  404-0687676-7273146  04-30-22                       Shipped   \n",
       "3      3  403-9615377-8133951  04-30-22                     Cancelled   \n",
       "4      4  407-1069790-7240320  04-30-22                       Shipped   \n",
       "\n",
       "  Fulfilment Sales Channel ship-service-level  Category Size Courier Status  \\\n",
       "0   Merchant     Amazon.in           Standard   T-shirt    S     On the Way   \n",
       "1   Merchant     Amazon.in           Standard     Shirt  3XL        Shipped   \n",
       "2     Amazon     Amazon.in          Expedited     Shirt   XL        Shipped   \n",
       "3   Merchant     Amazon.in           Standard   Blazzer    L     On the Way   \n",
       "4     Amazon     Amazon.in          Expedited  Trousers  3XL        Shipped   \n",
       "\n",
       "   ...  currency  Amount    ship-city   ship-state ship-postal-code  \\\n",
       "0  ...       INR  647.62       MUMBAI  MAHARASHTRA         400081.0   \n",
       "1  ...       INR  406.00    BENGALURU    KARNATAKA         560085.0   \n",
       "2  ...       INR  329.00  NAVI MUMBAI  MAHARASHTRA         410210.0   \n",
       "3  ...       INR  753.33   PUDUCHERRY   PUDUCHERRY         605008.0   \n",
       "4  ...       INR  574.00      CHENNAI   TAMIL NADU         600073.0   \n",
       "\n",
       "   ship-country    B2B  fulfilled-by New  PendingS  \n",
       "0            IN  False     Easy Ship NaN       NaN  \n",
       "1            IN  False     Easy Ship NaN       NaN  \n",
       "2            IN   True           NaN NaN       NaN  \n",
       "3            IN  False     Easy Ship NaN       NaN  \n",
       "4            IN  False           NaN NaN       NaN  \n",
       "\n",
       "[5 rows x 21 columns]"
      ]
     },
     "execution_count": 19,
     "metadata": {},
     "output_type": "execute_result"
    }
   ],
   "source": [
    "df.head(5)"
   ]
  },
  {
   "cell_type": "code",
   "execution_count": 20,
   "id": "febf0cb3",
   "metadata": {},
   "outputs": [
    {
     "data": {
      "text/html": [
       "<div>\n",
       "<style scoped>\n",
       "    .dataframe tbody tr th:only-of-type {\n",
       "        vertical-align: middle;\n",
       "    }\n",
       "\n",
       "    .dataframe tbody tr th {\n",
       "        vertical-align: top;\n",
       "    }\n",
       "\n",
       "    .dataframe thead th {\n",
       "        text-align: right;\n",
       "    }\n",
       "</style>\n",
       "<table border=\"1\" class=\"dataframe\">\n",
       "  <thead>\n",
       "    <tr style=\"text-align: right;\">\n",
       "      <th></th>\n",
       "      <th>index</th>\n",
       "      <th>Order ID</th>\n",
       "      <th>Date</th>\n",
       "      <th>Status</th>\n",
       "      <th>Fulfilment</th>\n",
       "      <th>Sales Channel</th>\n",
       "      <th>ship-service-level</th>\n",
       "      <th>Category</th>\n",
       "      <th>Size</th>\n",
       "      <th>Courier Status</th>\n",
       "      <th>...</th>\n",
       "      <th>currency</th>\n",
       "      <th>Amount</th>\n",
       "      <th>ship-city</th>\n",
       "      <th>ship-state</th>\n",
       "      <th>ship-postal-code</th>\n",
       "      <th>ship-country</th>\n",
       "      <th>B2B</th>\n",
       "      <th>fulfilled-by</th>\n",
       "      <th>New</th>\n",
       "      <th>PendingS</th>\n",
       "    </tr>\n",
       "  </thead>\n",
       "  <tbody>\n",
       "    <tr>\n",
       "      <th>128971</th>\n",
       "      <td>128970</td>\n",
       "      <td>406-6001380-7673107</td>\n",
       "      <td>05-31-22</td>\n",
       "      <td>Shipped</td>\n",
       "      <td>Amazon</td>\n",
       "      <td>Amazon.in</td>\n",
       "      <td>Expedited</td>\n",
       "      <td>Shirt</td>\n",
       "      <td>XL</td>\n",
       "      <td>Shipped</td>\n",
       "      <td>...</td>\n",
       "      <td>INR</td>\n",
       "      <td>517.0</td>\n",
       "      <td>HYDERABAD</td>\n",
       "      <td>TELANGANA</td>\n",
       "      <td>500013.0</td>\n",
       "      <td>IN</td>\n",
       "      <td>False</td>\n",
       "      <td>NaN</td>\n",
       "      <td>NaN</td>\n",
       "      <td>NaN</td>\n",
       "    </tr>\n",
       "    <tr>\n",
       "      <th>128972</th>\n",
       "      <td>128971</td>\n",
       "      <td>402-9551604-7544318</td>\n",
       "      <td>05-31-22</td>\n",
       "      <td>Shipped</td>\n",
       "      <td>Amazon</td>\n",
       "      <td>Amazon.in</td>\n",
       "      <td>Expedited</td>\n",
       "      <td>T-shirt</td>\n",
       "      <td>M</td>\n",
       "      <td>Shipped</td>\n",
       "      <td>...</td>\n",
       "      <td>INR</td>\n",
       "      <td>999.0</td>\n",
       "      <td>GURUGRAM</td>\n",
       "      <td>HARYANA</td>\n",
       "      <td>122004.0</td>\n",
       "      <td>IN</td>\n",
       "      <td>False</td>\n",
       "      <td>NaN</td>\n",
       "      <td>NaN</td>\n",
       "      <td>NaN</td>\n",
       "    </tr>\n",
       "    <tr>\n",
       "      <th>128973</th>\n",
       "      <td>128972</td>\n",
       "      <td>407-9547469-3152358</td>\n",
       "      <td>05-31-22</td>\n",
       "      <td>Shipped</td>\n",
       "      <td>Amazon</td>\n",
       "      <td>Amazon.in</td>\n",
       "      <td>Expedited</td>\n",
       "      <td>Blazzer</td>\n",
       "      <td>XXL</td>\n",
       "      <td>Shipped</td>\n",
       "      <td>...</td>\n",
       "      <td>INR</td>\n",
       "      <td>690.0</td>\n",
       "      <td>HYDERABAD</td>\n",
       "      <td>TELANGANA</td>\n",
       "      <td>500049.0</td>\n",
       "      <td>IN</td>\n",
       "      <td>False</td>\n",
       "      <td>NaN</td>\n",
       "      <td>NaN</td>\n",
       "      <td>NaN</td>\n",
       "    </tr>\n",
       "    <tr>\n",
       "      <th>128974</th>\n",
       "      <td>128973</td>\n",
       "      <td>402-6184140-0545956</td>\n",
       "      <td>05-31-22</td>\n",
       "      <td>Shipped</td>\n",
       "      <td>Amazon</td>\n",
       "      <td>Amazon.in</td>\n",
       "      <td>Expedited</td>\n",
       "      <td>T-shirt</td>\n",
       "      <td>XS</td>\n",
       "      <td>Shipped</td>\n",
       "      <td>...</td>\n",
       "      <td>INR</td>\n",
       "      <td>1199.0</td>\n",
       "      <td>Halol</td>\n",
       "      <td>Gujarat</td>\n",
       "      <td>389350.0</td>\n",
       "      <td>IN</td>\n",
       "      <td>False</td>\n",
       "      <td>NaN</td>\n",
       "      <td>NaN</td>\n",
       "      <td>NaN</td>\n",
       "    </tr>\n",
       "    <tr>\n",
       "      <th>128975</th>\n",
       "      <td>128974</td>\n",
       "      <td>408-7436540-8728312</td>\n",
       "      <td>05-31-22</td>\n",
       "      <td>Shipped</td>\n",
       "      <td>Amazon</td>\n",
       "      <td>Amazon.in</td>\n",
       "      <td>Expedited</td>\n",
       "      <td>T-shirt</td>\n",
       "      <td>S</td>\n",
       "      <td>Shipped</td>\n",
       "      <td>...</td>\n",
       "      <td>INR</td>\n",
       "      <td>696.0</td>\n",
       "      <td>Raipur</td>\n",
       "      <td>CHHATTISGARH</td>\n",
       "      <td>492014.0</td>\n",
       "      <td>IN</td>\n",
       "      <td>False</td>\n",
       "      <td>NaN</td>\n",
       "      <td>NaN</td>\n",
       "      <td>NaN</td>\n",
       "    </tr>\n",
       "  </tbody>\n",
       "</table>\n",
       "<p>5 rows × 21 columns</p>\n",
       "</div>"
      ],
      "text/plain": [
       "         index             Order ID      Date   Status Fulfilment  \\\n",
       "128971  128970  406-6001380-7673107  05-31-22  Shipped     Amazon   \n",
       "128972  128971  402-9551604-7544318  05-31-22  Shipped     Amazon   \n",
       "128973  128972  407-9547469-3152358  05-31-22  Shipped     Amazon   \n",
       "128974  128973  402-6184140-0545956  05-31-22  Shipped     Amazon   \n",
       "128975  128974  408-7436540-8728312  05-31-22  Shipped     Amazon   \n",
       "\n",
       "       Sales Channel ship-service-level Category Size Courier Status  ...  \\\n",
       "128971     Amazon.in          Expedited    Shirt   XL        Shipped  ...   \n",
       "128972     Amazon.in          Expedited  T-shirt    M        Shipped  ...   \n",
       "128973     Amazon.in          Expedited  Blazzer  XXL        Shipped  ...   \n",
       "128974     Amazon.in          Expedited  T-shirt   XS        Shipped  ...   \n",
       "128975     Amazon.in          Expedited  T-shirt    S        Shipped  ...   \n",
       "\n",
       "        currency  Amount  ship-city    ship-state ship-postal-code  \\\n",
       "128971       INR   517.0  HYDERABAD     TELANGANA         500013.0   \n",
       "128972       INR   999.0   GURUGRAM       HARYANA         122004.0   \n",
       "128973       INR   690.0  HYDERABAD     TELANGANA         500049.0   \n",
       "128974       INR  1199.0      Halol       Gujarat         389350.0   \n",
       "128975       INR   696.0     Raipur  CHHATTISGARH         492014.0   \n",
       "\n",
       "        ship-country    B2B  fulfilled-by New  PendingS  \n",
       "128971            IN  False           NaN NaN       NaN  \n",
       "128972            IN  False           NaN NaN       NaN  \n",
       "128973            IN  False           NaN NaN       NaN  \n",
       "128974            IN  False           NaN NaN       NaN  \n",
       "128975            IN  False           NaN NaN       NaN  \n",
       "\n",
       "[5 rows x 21 columns]"
      ]
     },
     "execution_count": 20,
     "metadata": {},
     "output_type": "execute_result"
    }
   ],
   "source": [
    "df.tail(5)"
   ]
  },
  {
   "cell_type": "code",
   "execution_count": 21,
   "id": "5ed078d0",
   "metadata": {},
   "outputs": [
    {
     "name": "stdout",
     "output_type": "stream",
     "text": [
      "<class 'pandas.core.frame.DataFrame'>\n",
      "RangeIndex: 128976 entries, 0 to 128975\n",
      "Data columns (total 21 columns):\n",
      " #   Column              Non-Null Count   Dtype  \n",
      "---  ------              --------------   -----  \n",
      " 0   index               128976 non-null  int64  \n",
      " 1   Order ID            128976 non-null  object \n",
      " 2   Date                128976 non-null  object \n",
      " 3   Status              128976 non-null  object \n",
      " 4   Fulfilment          128976 non-null  object \n",
      " 5   Sales Channel       128976 non-null  object \n",
      " 6   ship-service-level  128976 non-null  object \n",
      " 7   Category            128976 non-null  object \n",
      " 8   Size                128976 non-null  object \n",
      " 9   Courier Status      128976 non-null  object \n",
      " 10  Qty                 128976 non-null  int64  \n",
      " 11  currency            121176 non-null  object \n",
      " 12  Amount              121176 non-null  float64\n",
      " 13  ship-city           128941 non-null  object \n",
      " 14  ship-state          128941 non-null  object \n",
      " 15  ship-postal-code    128941 non-null  float64\n",
      " 16  ship-country        128941 non-null  object \n",
      " 17  B2B                 128976 non-null  bool   \n",
      " 18  fulfilled-by        39263 non-null   object \n",
      " 19  New                 0 non-null       float64\n",
      " 20  PendingS            0 non-null       float64\n",
      "dtypes: bool(1), float64(4), int64(2), object(14)\n",
      "memory usage: 19.8+ MB\n"
     ]
    }
   ],
   "source": [
    "df.info()"
   ]
  },
  {
   "cell_type": "markdown",
   "id": "1de7464b",
   "metadata": {},
   "source": [
    "### Drop New and Pendings column as they are blank (axis =1 - vertical, 0 - horizontal)"
   ]
  },
  {
   "cell_type": "code",
   "execution_count": 30,
   "id": "7f71c1bf",
   "metadata": {},
   "outputs": [
    {
     "data": {
      "text/html": [
       "<div>\n",
       "<style scoped>\n",
       "    .dataframe tbody tr th:only-of-type {\n",
       "        vertical-align: middle;\n",
       "    }\n",
       "\n",
       "    .dataframe tbody tr th {\n",
       "        vertical-align: top;\n",
       "    }\n",
       "\n",
       "    .dataframe thead th {\n",
       "        text-align: right;\n",
       "    }\n",
       "</style>\n",
       "<table border=\"1\" class=\"dataframe\">\n",
       "  <thead>\n",
       "    <tr style=\"text-align: right;\">\n",
       "      <th></th>\n",
       "      <th>index</th>\n",
       "      <th>Order ID</th>\n",
       "      <th>Date</th>\n",
       "      <th>Status</th>\n",
       "      <th>Fulfilment</th>\n",
       "      <th>Sales Channel</th>\n",
       "      <th>ship-service-level</th>\n",
       "      <th>Category</th>\n",
       "      <th>Size</th>\n",
       "      <th>Courier Status</th>\n",
       "      <th>Qty</th>\n",
       "      <th>currency</th>\n",
       "      <th>Amount</th>\n",
       "      <th>ship-city</th>\n",
       "      <th>ship-state</th>\n",
       "      <th>ship-postal-code</th>\n",
       "      <th>ship-country</th>\n",
       "      <th>B2B</th>\n",
       "      <th>fulfilled-by</th>\n",
       "    </tr>\n",
       "  </thead>\n",
       "  <tbody>\n",
       "    <tr>\n",
       "      <th>0</th>\n",
       "      <td>0</td>\n",
       "      <td>405-8078784-5731545</td>\n",
       "      <td>04-30-22</td>\n",
       "      <td>Cancelled</td>\n",
       "      <td>Merchant</td>\n",
       "      <td>Amazon.in</td>\n",
       "      <td>Standard</td>\n",
       "      <td>T-shirt</td>\n",
       "      <td>S</td>\n",
       "      <td>On the Way</td>\n",
       "      <td>0</td>\n",
       "      <td>INR</td>\n",
       "      <td>647.62</td>\n",
       "      <td>MUMBAI</td>\n",
       "      <td>MAHARASHTRA</td>\n",
       "      <td>400081.0</td>\n",
       "      <td>IN</td>\n",
       "      <td>False</td>\n",
       "      <td>Easy Ship</td>\n",
       "    </tr>\n",
       "    <tr>\n",
       "      <th>1</th>\n",
       "      <td>1</td>\n",
       "      <td>171-9198151-1101146</td>\n",
       "      <td>04-30-22</td>\n",
       "      <td>Shipped - Delivered to Buyer</td>\n",
       "      <td>Merchant</td>\n",
       "      <td>Amazon.in</td>\n",
       "      <td>Standard</td>\n",
       "      <td>Shirt</td>\n",
       "      <td>3XL</td>\n",
       "      <td>Shipped</td>\n",
       "      <td>1</td>\n",
       "      <td>INR</td>\n",
       "      <td>406.00</td>\n",
       "      <td>BENGALURU</td>\n",
       "      <td>KARNATAKA</td>\n",
       "      <td>560085.0</td>\n",
       "      <td>IN</td>\n",
       "      <td>False</td>\n",
       "      <td>Easy Ship</td>\n",
       "    </tr>\n",
       "    <tr>\n",
       "      <th>2</th>\n",
       "      <td>2</td>\n",
       "      <td>404-0687676-7273146</td>\n",
       "      <td>04-30-22</td>\n",
       "      <td>Shipped</td>\n",
       "      <td>Amazon</td>\n",
       "      <td>Amazon.in</td>\n",
       "      <td>Expedited</td>\n",
       "      <td>Shirt</td>\n",
       "      <td>XL</td>\n",
       "      <td>Shipped</td>\n",
       "      <td>1</td>\n",
       "      <td>INR</td>\n",
       "      <td>329.00</td>\n",
       "      <td>NAVI MUMBAI</td>\n",
       "      <td>MAHARASHTRA</td>\n",
       "      <td>410210.0</td>\n",
       "      <td>IN</td>\n",
       "      <td>True</td>\n",
       "      <td>NaN</td>\n",
       "    </tr>\n",
       "    <tr>\n",
       "      <th>3</th>\n",
       "      <td>3</td>\n",
       "      <td>403-9615377-8133951</td>\n",
       "      <td>04-30-22</td>\n",
       "      <td>Cancelled</td>\n",
       "      <td>Merchant</td>\n",
       "      <td>Amazon.in</td>\n",
       "      <td>Standard</td>\n",
       "      <td>Blazzer</td>\n",
       "      <td>L</td>\n",
       "      <td>On the Way</td>\n",
       "      <td>0</td>\n",
       "      <td>INR</td>\n",
       "      <td>753.33</td>\n",
       "      <td>PUDUCHERRY</td>\n",
       "      <td>PUDUCHERRY</td>\n",
       "      <td>605008.0</td>\n",
       "      <td>IN</td>\n",
       "      <td>False</td>\n",
       "      <td>Easy Ship</td>\n",
       "    </tr>\n",
       "    <tr>\n",
       "      <th>4</th>\n",
       "      <td>4</td>\n",
       "      <td>407-1069790-7240320</td>\n",
       "      <td>04-30-22</td>\n",
       "      <td>Shipped</td>\n",
       "      <td>Amazon</td>\n",
       "      <td>Amazon.in</td>\n",
       "      <td>Expedited</td>\n",
       "      <td>Trousers</td>\n",
       "      <td>3XL</td>\n",
       "      <td>Shipped</td>\n",
       "      <td>1</td>\n",
       "      <td>INR</td>\n",
       "      <td>574.00</td>\n",
       "      <td>CHENNAI</td>\n",
       "      <td>TAMIL NADU</td>\n",
       "      <td>600073.0</td>\n",
       "      <td>IN</td>\n",
       "      <td>False</td>\n",
       "      <td>NaN</td>\n",
       "    </tr>\n",
       "    <tr>\n",
       "      <th>...</th>\n",
       "      <td>...</td>\n",
       "      <td>...</td>\n",
       "      <td>...</td>\n",
       "      <td>...</td>\n",
       "      <td>...</td>\n",
       "      <td>...</td>\n",
       "      <td>...</td>\n",
       "      <td>...</td>\n",
       "      <td>...</td>\n",
       "      <td>...</td>\n",
       "      <td>...</td>\n",
       "      <td>...</td>\n",
       "      <td>...</td>\n",
       "      <td>...</td>\n",
       "      <td>...</td>\n",
       "      <td>...</td>\n",
       "      <td>...</td>\n",
       "      <td>...</td>\n",
       "      <td>...</td>\n",
       "    </tr>\n",
       "    <tr>\n",
       "      <th>128971</th>\n",
       "      <td>128970</td>\n",
       "      <td>406-6001380-7673107</td>\n",
       "      <td>05-31-22</td>\n",
       "      <td>Shipped</td>\n",
       "      <td>Amazon</td>\n",
       "      <td>Amazon.in</td>\n",
       "      <td>Expedited</td>\n",
       "      <td>Shirt</td>\n",
       "      <td>XL</td>\n",
       "      <td>Shipped</td>\n",
       "      <td>1</td>\n",
       "      <td>INR</td>\n",
       "      <td>517.00</td>\n",
       "      <td>HYDERABAD</td>\n",
       "      <td>TELANGANA</td>\n",
       "      <td>500013.0</td>\n",
       "      <td>IN</td>\n",
       "      <td>False</td>\n",
       "      <td>NaN</td>\n",
       "    </tr>\n",
       "    <tr>\n",
       "      <th>128972</th>\n",
       "      <td>128971</td>\n",
       "      <td>402-9551604-7544318</td>\n",
       "      <td>05-31-22</td>\n",
       "      <td>Shipped</td>\n",
       "      <td>Amazon</td>\n",
       "      <td>Amazon.in</td>\n",
       "      <td>Expedited</td>\n",
       "      <td>T-shirt</td>\n",
       "      <td>M</td>\n",
       "      <td>Shipped</td>\n",
       "      <td>1</td>\n",
       "      <td>INR</td>\n",
       "      <td>999.00</td>\n",
       "      <td>GURUGRAM</td>\n",
       "      <td>HARYANA</td>\n",
       "      <td>122004.0</td>\n",
       "      <td>IN</td>\n",
       "      <td>False</td>\n",
       "      <td>NaN</td>\n",
       "    </tr>\n",
       "    <tr>\n",
       "      <th>128973</th>\n",
       "      <td>128972</td>\n",
       "      <td>407-9547469-3152358</td>\n",
       "      <td>05-31-22</td>\n",
       "      <td>Shipped</td>\n",
       "      <td>Amazon</td>\n",
       "      <td>Amazon.in</td>\n",
       "      <td>Expedited</td>\n",
       "      <td>Blazzer</td>\n",
       "      <td>XXL</td>\n",
       "      <td>Shipped</td>\n",
       "      <td>1</td>\n",
       "      <td>INR</td>\n",
       "      <td>690.00</td>\n",
       "      <td>HYDERABAD</td>\n",
       "      <td>TELANGANA</td>\n",
       "      <td>500049.0</td>\n",
       "      <td>IN</td>\n",
       "      <td>False</td>\n",
       "      <td>NaN</td>\n",
       "    </tr>\n",
       "    <tr>\n",
       "      <th>128974</th>\n",
       "      <td>128973</td>\n",
       "      <td>402-6184140-0545956</td>\n",
       "      <td>05-31-22</td>\n",
       "      <td>Shipped</td>\n",
       "      <td>Amazon</td>\n",
       "      <td>Amazon.in</td>\n",
       "      <td>Expedited</td>\n",
       "      <td>T-shirt</td>\n",
       "      <td>XS</td>\n",
       "      <td>Shipped</td>\n",
       "      <td>1</td>\n",
       "      <td>INR</td>\n",
       "      <td>1199.00</td>\n",
       "      <td>Halol</td>\n",
       "      <td>Gujarat</td>\n",
       "      <td>389350.0</td>\n",
       "      <td>IN</td>\n",
       "      <td>False</td>\n",
       "      <td>NaN</td>\n",
       "    </tr>\n",
       "    <tr>\n",
       "      <th>128975</th>\n",
       "      <td>128974</td>\n",
       "      <td>408-7436540-8728312</td>\n",
       "      <td>05-31-22</td>\n",
       "      <td>Shipped</td>\n",
       "      <td>Amazon</td>\n",
       "      <td>Amazon.in</td>\n",
       "      <td>Expedited</td>\n",
       "      <td>T-shirt</td>\n",
       "      <td>S</td>\n",
       "      <td>Shipped</td>\n",
       "      <td>1</td>\n",
       "      <td>INR</td>\n",
       "      <td>696.00</td>\n",
       "      <td>Raipur</td>\n",
       "      <td>CHHATTISGARH</td>\n",
       "      <td>492014.0</td>\n",
       "      <td>IN</td>\n",
       "      <td>False</td>\n",
       "      <td>NaN</td>\n",
       "    </tr>\n",
       "  </tbody>\n",
       "</table>\n",
       "<p>128976 rows × 19 columns</p>\n",
       "</div>"
      ],
      "text/plain": [
       "         index             Order ID      Date                        Status  \\\n",
       "0            0  405-8078784-5731545  04-30-22                     Cancelled   \n",
       "1            1  171-9198151-1101146  04-30-22  Shipped - Delivered to Buyer   \n",
       "2            2  404-0687676-7273146  04-30-22                       Shipped   \n",
       "3            3  403-9615377-8133951  04-30-22                     Cancelled   \n",
       "4            4  407-1069790-7240320  04-30-22                       Shipped   \n",
       "...        ...                  ...       ...                           ...   \n",
       "128971  128970  406-6001380-7673107  05-31-22                       Shipped   \n",
       "128972  128971  402-9551604-7544318  05-31-22                       Shipped   \n",
       "128973  128972  407-9547469-3152358  05-31-22                       Shipped   \n",
       "128974  128973  402-6184140-0545956  05-31-22                       Shipped   \n",
       "128975  128974  408-7436540-8728312  05-31-22                       Shipped   \n",
       "\n",
       "       Fulfilment Sales Channel ship-service-level  Category Size  \\\n",
       "0        Merchant     Amazon.in           Standard   T-shirt    S   \n",
       "1        Merchant     Amazon.in           Standard     Shirt  3XL   \n",
       "2          Amazon     Amazon.in          Expedited     Shirt   XL   \n",
       "3        Merchant     Amazon.in           Standard   Blazzer    L   \n",
       "4          Amazon     Amazon.in          Expedited  Trousers  3XL   \n",
       "...           ...           ...                ...       ...  ...   \n",
       "128971     Amazon     Amazon.in          Expedited     Shirt   XL   \n",
       "128972     Amazon     Amazon.in          Expedited   T-shirt    M   \n",
       "128973     Amazon     Amazon.in          Expedited   Blazzer  XXL   \n",
       "128974     Amazon     Amazon.in          Expedited   T-shirt   XS   \n",
       "128975     Amazon     Amazon.in          Expedited   T-shirt    S   \n",
       "\n",
       "       Courier Status  Qty currency   Amount    ship-city    ship-state  \\\n",
       "0          On the Way    0      INR   647.62       MUMBAI   MAHARASHTRA   \n",
       "1             Shipped    1      INR   406.00    BENGALURU     KARNATAKA   \n",
       "2             Shipped    1      INR   329.00  NAVI MUMBAI   MAHARASHTRA   \n",
       "3          On the Way    0      INR   753.33   PUDUCHERRY    PUDUCHERRY   \n",
       "4             Shipped    1      INR   574.00      CHENNAI    TAMIL NADU   \n",
       "...               ...  ...      ...      ...          ...           ...   \n",
       "128971        Shipped    1      INR   517.00    HYDERABAD     TELANGANA   \n",
       "128972        Shipped    1      INR   999.00     GURUGRAM       HARYANA   \n",
       "128973        Shipped    1      INR   690.00    HYDERABAD     TELANGANA   \n",
       "128974        Shipped    1      INR  1199.00        Halol       Gujarat   \n",
       "128975        Shipped    1      INR   696.00       Raipur  CHHATTISGARH   \n",
       "\n",
       "        ship-postal-code ship-country    B2B fulfilled-by  \n",
       "0               400081.0           IN  False    Easy Ship  \n",
       "1               560085.0           IN  False    Easy Ship  \n",
       "2               410210.0           IN   True          NaN  \n",
       "3               605008.0           IN  False    Easy Ship  \n",
       "4               600073.0           IN  False          NaN  \n",
       "...                  ...          ...    ...          ...  \n",
       "128971          500013.0           IN  False          NaN  \n",
       "128972          122004.0           IN  False          NaN  \n",
       "128973          500049.0           IN  False          NaN  \n",
       "128974          389350.0           IN  False          NaN  \n",
       "128975          492014.0           IN  False          NaN  \n",
       "\n",
       "[128976 rows x 19 columns]"
      ]
     },
     "execution_count": 30,
     "metadata": {},
     "output_type": "execute_result"
    }
   ],
   "source": [
    "df.drop(['New','PendingS'], axis = 1, inplace = True)"
   ]
  },
  {
   "cell_type": "code",
   "execution_count": 32,
   "id": "35eb76d4",
   "metadata": {},
   "outputs": [
    {
     "data": {
      "text/plain": [
       "index                     0\n",
       "Order ID                  0\n",
       "Date                      0\n",
       "Status                    0\n",
       "Fulfilment                0\n",
       "Sales Channel             0\n",
       "ship-service-level        0\n",
       "Category                  0\n",
       "Size                      0\n",
       "Courier Status            0\n",
       "Qty                       0\n",
       "currency               7800\n",
       "Amount                 7800\n",
       "ship-city                35\n",
       "ship-state               35\n",
       "ship-postal-code         35\n",
       "ship-country             35\n",
       "B2B                       0\n",
       "fulfilled-by          89713\n",
       "dtype: int64"
      ]
     },
     "execution_count": 32,
     "metadata": {},
     "output_type": "execute_result"
    }
   ],
   "source": [
    "#checking null values\n",
    "df.isnull().sum()"
   ]
  },
  {
   "cell_type": "code",
   "execution_count": 33,
   "id": "ab8145d9",
   "metadata": {},
   "outputs": [],
   "source": [
    "# Dropping Null Values\n",
    "df.dropna(inplace = True)"
   ]
  },
  {
   "cell_type": "code",
   "execution_count": 34,
   "id": "56c46c3c",
   "metadata": {
    "scrolled": true
   },
   "outputs": [
    {
     "data": {
      "text/plain": [
       "index                 0\n",
       "Order ID              0\n",
       "Date                  0\n",
       "Status                0\n",
       "Fulfilment            0\n",
       "Sales Channel         0\n",
       "ship-service-level    0\n",
       "Category              0\n",
       "Size                  0\n",
       "Courier Status        0\n",
       "Qty                   0\n",
       "currency              0\n",
       "Amount                0\n",
       "ship-city             0\n",
       "ship-state            0\n",
       "ship-postal-code      0\n",
       "ship-country          0\n",
       "B2B                   0\n",
       "fulfilled-by          0\n",
       "dtype: int64"
      ]
     },
     "execution_count": 34,
     "metadata": {},
     "output_type": "execute_result"
    }
   ],
   "source": [
    "df.isnull().sum()"
   ]
  },
  {
   "cell_type": "code",
   "execution_count": 36,
   "id": "b38b5240",
   "metadata": {},
   "outputs": [
    {
     "data": {
      "text/plain": [
       "Index(['index', 'Order ID', 'Date', 'Status', 'Fulfilment', 'Sales Channel',\n",
       "       'ship-service-level', 'Category', 'Size', 'Courier Status', 'Qty',\n",
       "       'currency', 'Amount', 'ship-city', 'ship-state', 'ship-postal-code',\n",
       "       'ship-country', 'B2B', 'fulfilled-by'],\n",
       "      dtype='object')"
      ]
     },
     "execution_count": 36,
     "metadata": {},
     "output_type": "execute_result"
    }
   ],
   "source": [
    "df.columns"
   ]
  },
  {
   "cell_type": "code",
   "execution_count": 37,
   "id": "9bb6fa7c",
   "metadata": {},
   "outputs": [],
   "source": [
    "#changing data type\n",
    "df['ship-postal-code'] = df['ship-postal-code'].astype('int')"
   ]
  },
  {
   "cell_type": "code",
   "execution_count": 41,
   "id": "6f3b94ae",
   "metadata": {},
   "outputs": [
    {
     "data": {
      "text/plain": [
       "dtype('int32')"
      ]
     },
     "execution_count": 41,
     "metadata": {},
     "output_type": "execute_result"
    }
   ],
   "source": [
    "df['ship-postal-code'].dtype"
   ]
  },
  {
   "cell_type": "code",
   "execution_count": 42,
   "id": "b7ba4f26",
   "metadata": {},
   "outputs": [
    {
     "name": "stderr",
     "output_type": "stream",
     "text": [
      "C:\\Users\\Hp\\AppData\\Local\\Temp\\ipykernel_9160\\3023999556.py:1: UserWarning: Could not infer format, so each element will be parsed individually, falling back to `dateutil`. To ensure parsing is consistent and as-expected, please specify a format.\n",
      "  df['Date']=pd.to_datetime(df['Date'])\n"
     ]
    }
   ],
   "source": [
    "df['Date']=pd.to_datetime(df['Date'])"
   ]
  },
  {
   "cell_type": "code",
   "execution_count": 48,
   "id": "2803d036",
   "metadata": {},
   "outputs": [],
   "source": [
    "#Rename column\n",
    "df.rename(columns = {'Qty':'Quantity'}, inplace = True)"
   ]
  },
  {
   "cell_type": "code",
   "execution_count": 51,
   "id": "36a84759",
   "metadata": {},
   "outputs": [
    {
     "data": {
      "text/html": [
       "<div>\n",
       "<style scoped>\n",
       "    .dataframe tbody tr th:only-of-type {\n",
       "        vertical-align: middle;\n",
       "    }\n",
       "\n",
       "    .dataframe tbody tr th {\n",
       "        vertical-align: top;\n",
       "    }\n",
       "\n",
       "    .dataframe thead th {\n",
       "        text-align: right;\n",
       "    }\n",
       "</style>\n",
       "<table border=\"1\" class=\"dataframe\">\n",
       "  <thead>\n",
       "    <tr style=\"text-align: right;\">\n",
       "      <th></th>\n",
       "      <th>index</th>\n",
       "      <th>Date</th>\n",
       "      <th>Quantity</th>\n",
       "      <th>Amount</th>\n",
       "      <th>ship-postal-code</th>\n",
       "    </tr>\n",
       "  </thead>\n",
       "  <tbody>\n",
       "    <tr>\n",
       "      <th>count</th>\n",
       "      <td>37514.000000</td>\n",
       "      <td>37514</td>\n",
       "      <td>37514.000000</td>\n",
       "      <td>37514.000000</td>\n",
       "      <td>37514.000000</td>\n",
       "    </tr>\n",
       "    <tr>\n",
       "      <th>mean</th>\n",
       "      <td>60953.809858</td>\n",
       "      <td>2022-05-11 07:56:47.303939840</td>\n",
       "      <td>0.867383</td>\n",
       "      <td>646.553960</td>\n",
       "      <td>463291.552754</td>\n",
       "    </tr>\n",
       "    <tr>\n",
       "      <th>min</th>\n",
       "      <td>0.000000</td>\n",
       "      <td>2022-03-31 00:00:00</td>\n",
       "      <td>0.000000</td>\n",
       "      <td>0.000000</td>\n",
       "      <td>110001.000000</td>\n",
       "    </tr>\n",
       "    <tr>\n",
       "      <th>25%</th>\n",
       "      <td>27235.250000</td>\n",
       "      <td>2022-04-20 00:00:00</td>\n",
       "      <td>1.000000</td>\n",
       "      <td>458.000000</td>\n",
       "      <td>370465.000000</td>\n",
       "    </tr>\n",
       "    <tr>\n",
       "      <th>50%</th>\n",
       "      <td>63470.500000</td>\n",
       "      <td>2022-05-09 00:00:00</td>\n",
       "      <td>1.000000</td>\n",
       "      <td>629.000000</td>\n",
       "      <td>500019.000000</td>\n",
       "    </tr>\n",
       "    <tr>\n",
       "      <th>75%</th>\n",
       "      <td>91790.750000</td>\n",
       "      <td>2022-06-01 00:00:00</td>\n",
       "      <td>1.000000</td>\n",
       "      <td>771.000000</td>\n",
       "      <td>600042.000000</td>\n",
       "    </tr>\n",
       "    <tr>\n",
       "      <th>max</th>\n",
       "      <td>128891.000000</td>\n",
       "      <td>2022-06-29 00:00:00</td>\n",
       "      <td>5.000000</td>\n",
       "      <td>5495.000000</td>\n",
       "      <td>989898.000000</td>\n",
       "    </tr>\n",
       "    <tr>\n",
       "      <th>std</th>\n",
       "      <td>36844.853039</td>\n",
       "      <td>NaN</td>\n",
       "      <td>0.354160</td>\n",
       "      <td>279.952414</td>\n",
       "      <td>194550.425637</td>\n",
       "    </tr>\n",
       "  </tbody>\n",
       "</table>\n",
       "</div>"
      ],
      "text/plain": [
       "               index                           Date      Quantity  \\\n",
       "count   37514.000000                          37514  37514.000000   \n",
       "mean    60953.809858  2022-05-11 07:56:47.303939840      0.867383   \n",
       "min         0.000000            2022-03-31 00:00:00      0.000000   \n",
       "25%     27235.250000            2022-04-20 00:00:00      1.000000   \n",
       "50%     63470.500000            2022-05-09 00:00:00      1.000000   \n",
       "75%     91790.750000            2022-06-01 00:00:00      1.000000   \n",
       "max    128891.000000            2022-06-29 00:00:00      5.000000   \n",
       "std     36844.853039                            NaN      0.354160   \n",
       "\n",
       "             Amount  ship-postal-code  \n",
       "count  37514.000000      37514.000000  \n",
       "mean     646.553960     463291.552754  \n",
       "min        0.000000     110001.000000  \n",
       "25%      458.000000     370465.000000  \n",
       "50%      629.000000     500019.000000  \n",
       "75%      771.000000     600042.000000  \n",
       "max     5495.000000     989898.000000  \n",
       "std      279.952414     194550.425637  "
      ]
     },
     "execution_count": 51,
     "metadata": {},
     "output_type": "execute_result"
    }
   ],
   "source": [
    "df.describe()"
   ]
  },
  {
   "cell_type": "code",
   "execution_count": 53,
   "id": "ef0cd54c",
   "metadata": {},
   "outputs": [
    {
     "data": {
      "text/html": [
       "<div>\n",
       "<style scoped>\n",
       "    .dataframe tbody tr th:only-of-type {\n",
       "        vertical-align: middle;\n",
       "    }\n",
       "\n",
       "    .dataframe tbody tr th {\n",
       "        vertical-align: top;\n",
       "    }\n",
       "\n",
       "    .dataframe thead th {\n",
       "        text-align: right;\n",
       "    }\n",
       "</style>\n",
       "<table border=\"1\" class=\"dataframe\">\n",
       "  <thead>\n",
       "    <tr style=\"text-align: right;\">\n",
       "      <th></th>\n",
       "      <th>Order ID</th>\n",
       "      <th>Status</th>\n",
       "      <th>Fulfilment</th>\n",
       "      <th>Sales Channel</th>\n",
       "      <th>ship-service-level</th>\n",
       "      <th>Category</th>\n",
       "      <th>Size</th>\n",
       "      <th>Courier Status</th>\n",
       "      <th>currency</th>\n",
       "      <th>ship-city</th>\n",
       "      <th>ship-state</th>\n",
       "      <th>ship-country</th>\n",
       "      <th>fulfilled-by</th>\n",
       "    </tr>\n",
       "  </thead>\n",
       "  <tbody>\n",
       "    <tr>\n",
       "      <th>count</th>\n",
       "      <td>37514</td>\n",
       "      <td>37514</td>\n",
       "      <td>37514</td>\n",
       "      <td>37514</td>\n",
       "      <td>37514</td>\n",
       "      <td>37514</td>\n",
       "      <td>37514</td>\n",
       "      <td>37514</td>\n",
       "      <td>37514</td>\n",
       "      <td>37514</td>\n",
       "      <td>37514</td>\n",
       "      <td>37514</td>\n",
       "      <td>37514</td>\n",
       "    </tr>\n",
       "    <tr>\n",
       "      <th>unique</th>\n",
       "      <td>34664</td>\n",
       "      <td>11</td>\n",
       "      <td>1</td>\n",
       "      <td>1</td>\n",
       "      <td>1</td>\n",
       "      <td>8</td>\n",
       "      <td>11</td>\n",
       "      <td>3</td>\n",
       "      <td>1</td>\n",
       "      <td>4698</td>\n",
       "      <td>58</td>\n",
       "      <td>1</td>\n",
       "      <td>1</td>\n",
       "    </tr>\n",
       "    <tr>\n",
       "      <th>top</th>\n",
       "      <td>171-5057375-2831560</td>\n",
       "      <td>Shipped - Delivered to Buyer</td>\n",
       "      <td>Merchant</td>\n",
       "      <td>Amazon.in</td>\n",
       "      <td>Standard</td>\n",
       "      <td>T-shirt</td>\n",
       "      <td>M</td>\n",
       "      <td>Shipped</td>\n",
       "      <td>INR</td>\n",
       "      <td>BENGALURU</td>\n",
       "      <td>MAHARASHTRA</td>\n",
       "      <td>IN</td>\n",
       "      <td>Easy Ship</td>\n",
       "    </tr>\n",
       "    <tr>\n",
       "      <th>freq</th>\n",
       "      <td>12</td>\n",
       "      <td>28741</td>\n",
       "      <td>37514</td>\n",
       "      <td>37514</td>\n",
       "      <td>37514</td>\n",
       "      <td>14062</td>\n",
       "      <td>6806</td>\n",
       "      <td>31859</td>\n",
       "      <td>37514</td>\n",
       "      <td>2839</td>\n",
       "      <td>6236</td>\n",
       "      <td>37514</td>\n",
       "      <td>37514</td>\n",
       "    </tr>\n",
       "  </tbody>\n",
       "</table>\n",
       "</div>"
      ],
      "text/plain": [
       "                   Order ID                        Status Fulfilment  \\\n",
       "count                 37514                         37514      37514   \n",
       "unique                34664                            11          1   \n",
       "top     171-5057375-2831560  Shipped - Delivered to Buyer   Merchant   \n",
       "freq                     12                         28741      37514   \n",
       "\n",
       "       Sales Channel ship-service-level Category   Size Courier Status  \\\n",
       "count          37514              37514    37514  37514          37514   \n",
       "unique             1                  1        8     11              3   \n",
       "top        Amazon.in           Standard  T-shirt      M        Shipped   \n",
       "freq           37514              37514    14062   6806          31859   \n",
       "\n",
       "       currency  ship-city   ship-state ship-country fulfilled-by  \n",
       "count     37514      37514        37514        37514        37514  \n",
       "unique        1       4698           58            1            1  \n",
       "top         INR  BENGALURU  MAHARASHTRA           IN    Easy Ship  \n",
       "freq      37514       2839         6236        37514        37514  "
      ]
     },
     "execution_count": 53,
     "metadata": {},
     "output_type": "execute_result"
    }
   ],
   "source": [
    "df.describe(include='object')"
   ]
  },
  {
   "cell_type": "markdown",
   "id": "53db87ad",
   "metadata": {},
   "source": [
    "# Exploratory Data Analysis"
   ]
  },
  {
   "cell_type": "markdown",
   "id": "2e3bcdce",
   "metadata": {},
   "source": [
    "### Size"
   ]
  },
  {
   "cell_type": "code",
   "execution_count": 58,
   "id": "4c6a6897",
   "metadata": {
    "scrolled": false
   },
   "outputs": [
    {
     "data": {
      "image/png": "[encoded data removed]",
      "text/plain": [
       "<Figure size 640x480 with 1 Axes>"
      ]
     },
     "metadata": {},
     "output_type": "display_data"
    }
   ],
   "source": [
    "ax= sns.countplot(x='Size', data = df)\n",
    "for bars in ax.containers:\n",
    "    ax.bar_label(bars)\n",
    "plt.show()"
   ]
  },
  {
   "cell_type": "markdown",
   "id": "3d95861e",
   "metadata": {},
   "source": [
    "#### Conclusion - From the above graph, we can see that most of the people buy M size followed by L size. "
   ]
  },
  {
   "cell_type": "code",
   "execution_count": 86,
   "id": "18c659ed",
   "metadata": {},
   "outputs": [
    {
     "data": {
      "image/png": "[encoded data removed]",
      "text/plain": [
       "<Figure size 1000x500 with 1 Axes>"
      ]
     },
     "metadata": {},
     "output_type": "display_data"
    }
   ],
   "source": [
    "plt.figure(figsize=(10,5))\n",
    "graph = df.groupby(['Size'], as_index=False)['Quantity'].sum().sort_values(by='Quantity', ascending=False)\n",
    "sns.barplot(x = 'Size', y = 'Quantity', data= graph)\n",
    "\n",
    "plt.show()"
   ]
  },
  {
   "cell_type": "markdown",
   "id": "ceb5dfae",
   "metadata": {},
   "source": [
    "### Courier Status"
   ]
  },
  {
   "cell_type": "code",
   "execution_count": 85,
   "id": "601e1345",
   "metadata": {},
   "outputs": [
    {
     "data": {
      "text/plain": [
       "<Axes: xlabel='Courier Status', ylabel='count'>"
      ]
     },
     "execution_count": 85,
     "metadata": {},
     "output_type": "execute_result"
    },
    {
     "data": {
      "image/png": "[encoded data removed]",
      "text/plain": [
       "<Figure size 1000x500 with 1 Axes>"
      ]
     },
     "metadata": {},
     "output_type": "display_data"
    }
   ],
   "source": [
    "plt.figure(figsize=(10,5))\n",
    "sns.countplot(x='Courier Status', hue='Status', data = df)"
   ]
  },
  {
   "cell_type": "markdown",
   "id": "ecb84c43",
   "metadata": {},
   "source": [
    "#### From the above graph, we can see that most of the orders were delivered to the end consumer.  "
   ]
  },
  {
   "cell_type": "code",
   "execution_count": 70,
   "id": "57051207",
   "metadata": {},
   "outputs": [
    {
     "data": {
      "text/plain": [
       "(array([0., 0., 0., 0., 0., 1., 0., 0., 0., 0.]),\n",
       " array([-0.5, -0.4, -0.3, -0.2, -0.1,  0. ,  0.1,  0.2,  0.3,  0.4,  0.5]),\n",
       " <BarContainer object of 10 artists>)"
      ]
     },
     "execution_count": 70,
     "metadata": {},
     "output_type": "execute_result"
    },
    {
     "data": {
      "image/png": "[encoded data removed]",
      "text/plain": [
       "<Figure size 640x480 with 1 Axes>"
      ]
     },
     "metadata": {},
     "output_type": "display_data"
    }
   ],
   "source": [
    "plt.hist('Category')"
   ]
  },
  {
   "cell_type": "code",
   "execution_count": 76,
   "id": "41ac6eed",
   "metadata": {},
   "outputs": [],
   "source": [
    "df['Category'] = df['Category'].astype('str')\n",
    "column_data = df['Category']"
   ]
  },
  {
   "cell_type": "code",
   "execution_count": 94,
   "id": "541fbe4b",
   "metadata": {},
   "outputs": [
    {
     "data": {
      "image/png": "[encoded data removed]",
      "text/plain": [
       "<Figure size 1000x500 with 1 Axes>"
      ]
     },
     "metadata": {},
     "output_type": "display_data"
    }
   ],
   "source": [
    "plt.figure(figsize=(10,5))\n",
    "plt.hist(column_data, bins = 10, color = 'green', edgecolor = 'yellow')\n",
    "plt.show()"
   ]
  },
  {
   "cell_type": "markdown",
   "id": "6a23d629",
   "metadata": {},
   "source": [
    "#### Conclusion - From the above graph we can see that most of the customers bought T-Shirt during the Sales."
   ]
  },
  {
   "cell_type": "code",
   "execution_count": 91,
   "id": "9439ef4a",
   "metadata": {},
   "outputs": [
    {
     "data": {
      "image/png": "[encoded data removed]",
      "text/plain": [
       "<Figure size 640x480 with 1 Axes>"
      ]
     },
     "metadata": {},
     "output_type": "display_data"
    }
   ],
   "source": [
    "# CHECKING B2B through PIE CHART\n",
    "b2b_check = df['B2B'].value_counts()\n",
    "\n",
    "plt.pie(b2b_check, labels = b2b_check.index, autopct = '%0.1f%%')\n",
    "plt.show()"
   ]
  },
  {
   "cell_type": "markdown",
   "id": "1c4977df",
   "metadata": {},
   "source": [
    "#### From the above pie chart, we can see that 99.2% of buyers are end consumers."
   ]
  },
  {
   "cell_type": "code",
   "execution_count": 93,
   "id": "f78fc39f",
   "metadata": {},
   "outputs": [
    {
     "data": {
      "image/png": "[encoded data removed]",
      "text/plain": [
       "<Figure size 640x480 with 1 Axes>"
      ]
     },
     "metadata": {},
     "output_type": "display_data"
    }
   ],
   "source": [
    "# Scatter Chart\n",
    "x_data = df['Category']\n",
    "y_data = df['Size']\n",
    "plt.scatter(x_data, y_data)\n",
    "plt.show()"
   ]
  },
  {
   "cell_type": "code",
   "execution_count": 101,
   "id": "cb2094b1",
   "metadata": {},
   "outputs": [
    {
     "data": {
      "image/png": "[encoded data removed]",
      "text/plain": [
       "<Figure size 1200x600 with 1 Axes>"
      ]
     },
     "metadata": {},
     "output_type": "display_data"
    }
   ],
   "source": [
    "#Distribution by Top 10 States. \n",
    "top_10 = df['ship-state'].value_counts().head(10)\n",
    "plt.figure(figsize=(12,6))\n",
    "sns.countplot(x = 'ship-state', data = df[df['ship-state'].isin(top_10.index)])\n",
    "plt.xticks(rotation = 45)\n",
    "plt.show()"
   ]
  },
  {
   "cell_type": "markdown",
   "id": "3484ed13",
   "metadata": {},
   "source": [
    "#### Conclusion - From the above chart, we can see that most of the buyers are from Maharashtra state. "
   ]
  },
  {
   "cell_type": "markdown",
   "id": "b630f6cb",
   "metadata": {},
   "source": [
    "# Insights"
   ]
  },
  {
   "cell_type": "markdown",
   "id": "3a5f0dba",
   "metadata": {},
   "source": [
    "### The data analysis reveals that the business has a significent customer base in Maharashtra state, mainly serves end consumers, fulfil order through Amazon, experiences high demand for T-shirts, and see M size as the preferred choice among buyers."
   ]
  },
  {
   "cell_type": "code",
   "execution_count": null,
   "id": "a8d0f83a",
   "metadata": {},
   "outputs": [],
   "source": []
  },
  {
   "cell_type": "code",
   "execution_count": null,
   "id": "4541d2d5",
   "metadata": {},
   "outputs": [],
   "source": []
  },
  {
   "cell_type": "code",
   "execution_count": null,
   "id": "2962a551",
   "metadata": {},
   "outputs": [],
   "source": []
  },
  {
   "cell_type": "code",
   "execution_count": null,
   "id": "c1331622",
   "metadata": {},
   "outputs": [],
   "source": []
  },
  {
   "cell_type": "code",
   "execution_count": null,
   "id": "1058a4d6",
   "metadata": {},
   "outputs": [],
   "source": []
  },
  {
   "cell_type": "code",
   "execution_count": null,
   "id": "09894a21",
   "metadata": {},
   "outputs": [],
   "source": []
  },
  {
   "cell_type": "code",
   "execution_count": null,
   "id": "3c433eb8",
   "metadata": {},
   "outputs": [],
   "source": []
  },
  {
   "cell_type": "code",
   "execution_count": null,
   "id": "94faf0a9",
   "metadata": {},
   "outputs": [],
   "source": []
  },
  {
   "cell_type": "code",
   "execution_count": null,
   "id": "6d68ad39",
   "metadata": {},
   "outputs": [],
   "source": []
  },
  {
   "cell_type": "code",
   "execution_count": null,
   "id": "e12dfb51",
   "metadata": {},
   "outputs": [],
   "source": []
  },
  {
   "cell_type": "code",
   "execution_count": null,
   "id": "08c6697c",
   "metadata": {},
   "outputs": [],
   "source": []
  },
  {
   "cell_type": "code",
   "execution_count": null,
   "id": "93f0608a",
   "metadata": {},
   "outputs": [],
   "source": []
  }
 ],
 "metadata": {
  "kernelspec": {
   "display_name": "Python 3 (ipykernel)",
   "language": "python",
   "name": "python3"
  },
  "language_info": {
   "codemirror_mode": {
    "name": "ipython",
    "version": 3
   },
   "file_extension": ".py",
   "mimetype": "text/x-python",
   "name": "python",
   "nbconvert_exporter": "python",
   "pygments_lexer": "ipython3",
   "version": "3.11.5"
  }
 },
 "nbformat": 4,
 "nbformat_minor": 5
}
